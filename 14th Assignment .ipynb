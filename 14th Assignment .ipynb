{
 "cells": [
  {
   "cell_type": "markdown",
   "id": "112a25b8-fac5-4202-b717-c6cafa588bf2",
   "metadata": {},
   "source": [
    "Q1. What is an API? Give an example, where an API is used in real life."
   ]
  },
  {
   "cell_type": "markdown",
   "id": "95c35e69-4797-4216-bacc-8c67e23f219f",
   "metadata": {},
   "source": [
    "APIs are used in web applications to connect user-facing front ends with critical back-end functionality and data. "
   ]
  },
  {
   "cell_type": "markdown",
   "id": "36ae280c-1c85-44c9-ab4d-4aaa33eaa841",
   "metadata": {},
   "source": [
    "EX :\n",
    "Sharing flight information between airlines and travel sites"
   ]
  },
  {
   "cell_type": "code",
   "execution_count": null,
   "id": "c2c41a87-a8f0-4e89-8032-6285cd792410",
   "metadata": {},
   "outputs": [],
   "source": []
  },
  {
   "cell_type": "markdown",
   "id": "ed1e7541-1f09-4287-b3fe-03c31c843b64",
   "metadata": {},
   "source": [
    "Q2. Give advantages and disadvantages of using API."
   ]
  },
  {
   "cell_type": "markdown",
   "id": "c0acde16-9f11-4710-a5a6-0e2c18a65845",
   "metadata": {},
   "source": [
    "A :                                  \n",
    "accessing and consuming data and services from thousands of independent sources.                      \n",
    "APIs provide developers with greater flexibility"
   ]
  },
  {
   "cell_type": "markdown",
   "id": "cc13caf3-5142-44fa-afd0-0059ee43e0ee",
   "metadata": {},
   "source": [
    "D:                                      \n",
    "Security Concerns                                                                                      \n",
    "API infrastructures can be vulnerable to security breaches\n"
   ]
  },
  {
   "cell_type": "code",
   "execution_count": null,
   "id": "236374fe-175a-424b-9874-31f45362b1d3",
   "metadata": {},
   "outputs": [],
   "source": []
  },
  {
   "cell_type": "markdown",
   "id": "36f9a55d-0755-40ef-b705-cdd962147482",
   "metadata": {},
   "source": [
    "Q3. What is a Web API? Differentiate between API and Web API."
   ]
  },
  {
   "cell_type": "markdown",
   "id": "f36cbd01-f178-41a4-8a30-219149d87031",
   "metadata": {},
   "source": [
    "api = http , tcp                                                                          \n",
    "web api = gmail application , google"
   ]
  },
  {
   "cell_type": "code",
   "execution_count": null,
   "id": "dc901fb2-f01a-4aba-a24e-981f3f572b0c",
   "metadata": {},
   "outputs": [],
   "source": []
  },
  {
   "cell_type": "markdown",
   "id": "dfcf66d3-a71b-4246-88c8-e9c67ebc5de0",
   "metadata": {},
   "source": [
    "Q4. Explain REST and SOAP Architecture. Mention shortcomings of SOAP."
   ]
  },
  {
   "cell_type": "markdown",
   "id": "25afeb3d-e5f6-4c2e-8ac0-3afcc7d7ad52",
   "metadata": {},
   "source": [
    "SOAP uses only XML for exchanging information in its message format.             \n",
    "Whereas REST is not restricted to XML and its the choice of implementer which Media-Type to use like XML, JSON, Plain-text.   \n",
    "Moreover, REST can use SOAP protocol but SOAP cannot use REST.     \n",
    "\n",
    "SOAP :\n",
    "Highly complex.                 \n",
    "Limited in its supports of data formats"
   ]
  },
  {
   "cell_type": "code",
   "execution_count": null,
   "id": "680b68e0-1e81-4fe5-9bc2-7b1c786cce56",
   "metadata": {},
   "outputs": [],
   "source": []
  },
  {
   "cell_type": "markdown",
   "id": "93ef829b-6ded-4671-94ed-85423ad931df",
   "metadata": {},
   "source": [
    "Q5. Differentiate between REST and SOAP."
   ]
  },
  {
   "cell_type": "markdown",
   "id": "65930bb0-9c1e-4965-bcc1-abb8ba7f1bf1",
   "metadata": {},
   "source": [
    "REST is a set of guidelines that offers flexible implementation      \n",
    "SOAP is a protocol with specific requirements like XML messaging.                                     \n"
   ]
  }
 ],
 "metadata": {
  "kernelspec": {
   "display_name": "Python 3 (ipykernel)",
   "language": "python",
   "name": "python3"
  },
  "language_info": {
   "codemirror_mode": {
    "name": "ipython",
    "version": 3
   },
   "file_extension": ".py",
   "mimetype": "text/x-python",
   "name": "python",
   "nbconvert_exporter": "python",
   "pygments_lexer": "ipython3",
   "version": "3.10.8"
  }
 },
 "nbformat": 4,
 "nbformat_minor": 5
}
